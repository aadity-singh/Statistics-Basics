{
 "cells": [
  {
   "cell_type": "markdown",
   "id": "a66ce51a-61f8-4039-a758-932039341b3a",
   "metadata": {},
   "source": [
    "Assignment Questions:-"
   ]
  },
  {
   "cell_type": "markdown",
   "id": "9c973867-45bd-44ea-9667-d8486f674d8e",
   "metadata": {},
   "source": [
    "1.Explain the different types of data (qualitative and quantitative) and provide examples of each. Discuss \n",
    "  nominal, ordinal, interval, and ratio scales.\n",
    "  -> Data can be broadly classified into two categories: qualitative and quantitative data.\n",
    "     1. Qualitative Data (Categorical Data):Qualitative data refers to non-numeric information that can be used to categorize or describe            attributes or characteristics. This type of data is typically descriptive and is often used to answer questions about \"what\" or              \"which\" (e.g., \"What color is the car?\" or \"Which animal is it?\").\n",
    "        Types of Qualitative Data:\n",
    "        Nominal Data:This is the most basic type of categorical data where the values are simply labels or names. There is no order or                            ranking among the categories.\n",
    "                    Examples:\n",
    "                    Gender (Male, Female, Other)\n",
    "                    Eye color (Blue, Brown, Green)\n",
    "                    Country of origin (USA, Canada, Germany)\n",
    "        Ordinal Data: This type of data has categories that can be ordered or ranked, but the intervals between the categories are not                             uniform or measurable.\n",
    "                    Examples:\n",
    "                    Educational level (High School, Bachelor's, Master's, Doctorate)\n",
    "                    Rating scales (Poor, Fair, Good, Excellent)\n",
    "                    Likert scale responses (Strongly Disagree, Disagree, Neutral, Agree, Strongly Agree)\n",
    "    2. Quantitative Data (Numerical Data):Quantitative data represents numerical values and is used to measure quantities, amounts, or              numerical variables. Quantitative data can be divided into two types based on the level of measurement: discrete and continuous data.\n",
    "        Types of Quantitative Data:\n",
    "        Interval Data: This type of data has ordered categories, and the differences between values are meaningful, but there is no true                            zero point (the zero does not represent the absence of the quantity).\n",
    "                    Examples:\n",
    "                    Temperature in Celsius or Fahrenheit (the difference between 10°C and 20°C is meaningful, but 0°C does not mean \"no                          temperature\").Calendar years (e.g., 2020, 2025) — the difference between years is meaningful, but 0 does not represent                       \"no time\"\n",
    "        Ratio Data: Ratio data has all the properties of interval data, but it also includes a true zero point, meaning zero represents the                      absence of the measured quantity. With ratio data, you can make meaningful comparisons using ratios (e.g., twice as                          much, half as much).\n",
    "                    Examples:\n",
    "                    Height (e.g., 0 cm means no height, and 180 cm is twice as tall as 90 cm)\n",
    "                    Weight (e.g., 0 kg means no weight, and 100 kg is twice as heavy as 50 kg)\n",
    "                    Age (e.g., 0 years means no age, and 30 years is twice as old as 15 years)"
   ]
  },
  {
   "cell_type": "markdown",
   "id": "6e1ecf2b-3f94-4b9f-ae04-bb63e9030d32",
   "metadata": {},
   "source": [
    "2-What are the measures of central tendency, and when should you use each? Discuss the mean, median, \n",
    "  and mode with examples and situations where each is appropriate.\n",
    "  -> Measures of Central Tendency are statistical measures used to describe the center or average of a dataset. The most common measures of       central tendency are the mean, median, and mode. Each measure provides different insights into the data and is used in different             situations depending on the nature of the data and the research question.\n",
    "      1.Mean (Arithmetic Average):The mean is the most commonly used measure of central tendency. It is calculated by adding up all the                                        values in a dataset and dividing by the number of values.\n",
    "        Formula for the Mean:  ∑X/N\n",
    "        Where:\n",
    "                ∑X is the sum of all data points.\n",
    "                N is the total number of data points.\n",
    "        When to Use the Mean:\n",
    "        1-Use the mean when the data is normally distributed (i.e., symmetrical and without extreme outliers).\n",
    "        2-The mean is particularly useful when you want to take all data points into account and can tolerate the influence of extreme                 values (outliers).\n",
    "        Example: If you have the dataset: 4, 7, 8, 10, 12, the mean is calculated as:\n",
    "                 Mean=(4+7+8+10+12)/5=41/5=8.2\n",
    "        Situations:\n",
    "        Income: If the distribution of incomes in a population is roughly normal, the mean income is a good representative measure.\n",
    "        Test scores: If scores are normally distributed, the mean gives a good summary of the overall performance.\n",
    "      2.Median:The median is the middle value of a dataset when the data points are arranged in ascending or descending order. If the number                of data points is odd, the median is the middle value; if the number is even, the median is the average of the two middle                    values.\n",
    "        When to Use the Median:\n",
    "        1-Use the median when the data contains outliers or is skewed because the median is not influenced by extreme values.\n",
    "        2-The median is useful when you want the central tendency of the \"typical\" or middle value.\n",
    "        Example: For the dataset: 4, 7, 8, 10, 12, the median is 8 because it is the middle value.\n",
    "                 If the dataset is: 1, 3, 8, 10, 12, the median is the average of the middle two values:\n",
    "                  Median= (8+10)/2=9\n",
    "        Situations:\n",
    "        Income distribution: If a small number of individuals earn very high incomes, which skews the mean, the median income might better                                 represent the \"typical\" person.\n",
    "        House prices: In areas with outlier property values, the median house price gives a better idea of the central tendency than the                            mean.\n",
    "      3.Mode:The mode is the value that appears most frequently in a dataset. It is possible for a dataset to have no mode, one mode                      (unimodal), or multiple modes (bimodal or multimodal).\n",
    "        When to Use the Mode:\n",
    "        1-Use the mode for categorical or nominal data, where the concept of average is not meaningful.\n",
    "        2-The mode is useful when you want to know which value occurs most frequently in your dataset.\n",
    "        Example: For the dataset: 4, 7, 8, 8, 12, the mode is 8 because it occurs most frequently. For the dataset: 3, 3, 5, 5, 8, 8, both           3, 5, and 8 are modes, so the dataset is multimodal.       \n",
    "        Situations:\n",
    "        1-Survey responses: If you’re asking people for their favorite color and have responses like “blue, blue, red, green,” the mode will                             show that \"blue\" is the most popular color.\n",
    "        2-Manufacturing: The mode might be used to determine the most frequent defect in a batch of products (e.g., if most defects are of a                          particular type)."
   ]
  },
  {
   "cell_type": "markdown",
   "id": "f5671598-e843-474b-9b65-6bba59e22675",
   "metadata": {},
   "source": [
    "3- Explain the concept of dispersion. How do variance and standard deviation measure the spread of data?\n",
    "  -> Dispersion refers to the way data values are spread or scattered around a central value, such as the mean or median. It provides             insights into the variability of a dataset. When we talk about dispersion, we are essentially asking: How much do the individual data        points differ from the average?Two common measures of dispersion are variance and standard deviation. Both of these measures quantify        the spread of data points, but they do so in slightly different ways.\n",
    "     1. Variance:Variance is a measure of how far each data point in a dataset is from the mean, and it gives an average of these squared                     differences. The formula for variance (𝜎^2) is:\n",
    "                                     N\n",
    "                             σ^2=1/N ∑(xi−μ)^2\n",
    "                                    i=1\n",
    "                 Where: 𝜎^2is the variance,\n",
    "                        𝑥𝑖 are the data points,\n",
    "                        𝜇 is the mean of the data,\n",
    "                        N is the number of data points.\n",
    "        Variance represents the average squared deviation from the mean. A higher variance means that the data points are spread out more            widely around the mean, while a lower variance indicates that the data points are closer to the mean.However, variance has a unit            problem: since it deals with squared differences, the units are the square of the original data's units. For example, if you're              measuring height in centimeters, variance would be measured in square centimeters (cm²), which may be harder to interpret in                 practical terms.\n",
    "     2.Standard Deviation:Standard deviation is simply the square root of the variance. It brings the units back to the original scale of                              the data, making it easier to interpret. The formula for standard deviation (σ) is:\n",
    "                                             𝜎=square root(σ) \n",
    "        Where σ^2 is the variance.\n",
    "        Since standard deviation is in the same units as the data itself, it is often more interpretable than variance. A higher standard            deviation indicates that data points are more spread out from the mean, and a lower standard deviation indicates that data points            are closer to the mean."
   ]
  },
  {
   "cell_type": "markdown",
   "id": "8eae6028-0354-4787-b4f7-2fe6c7e1d708",
   "metadata": {},
   "source": [
    "4-What is a box plot, and what can it tell you about the distribution of data?\n",
    "  -> A box plot (also known as a box-and-whisker plot) is a graphical representation of a dataset's distribution. It provides a concise way       to visualize the spread and central tendency of the data, as well as any potential outliers. The box plot is especially useful for           comparing multiple distributions side-by-side.\n",
    "     Box Plot Tell You About the Data Are:-\n",
    "     1-Central Tendency: The median line inside the box shows where the center of the data lies.\n",
    "     2-Spread/Dispersion: The length of the box (from Q1 to Q3) indicates the interquartile range (IQR), showing the spread of the middle                              50% of the data. The whiskers show the range of the data, excluding outliers.  \n",
    "     3-Skewness: If the median is closer to Q1, it may indicate a right-skewed (positively skewed) distribution. If the median is closer to                   Q3, it may indicate a left-skewed (negatively skewed) distribution. If the box is symmetric, the distribution is likely                      normal.  \n",
    "     4-Outliers: Outliers are easily identifiable as points outside the whiskers of the plot. These can represent extreme values that are                     significantly different from the rest of the data.\n",
    "     5-Comparing Distributions: When you plot multiple box plots on the same axis, you can visually compare the distributions of different                                   datasets. This helps in comparing their medians, spreads, and the presence of outliers."
   ]
  },
  {
   "cell_type": "markdown",
   "id": "d7e690b8-d3f5-47da-bd0b-0ccf1f3cabf7",
   "metadata": {},
   "source": [
    "5- Discuss the role of random sampling in making inferences about populations.\n",
    "   -> Key Roles of Random Sampling in Inferences:\n",
    "      1-Representativeness:Random sampling ensures that every individual or element in the population has an equal chance of being selected.         This helps ensure that the sample is representative of the population, meaning it mirrors the population's diversity in terms of             important characteristics.By using random sampling, the selection process is not biased by the researcher's preferences or                   assumptions, leading to a more accurate reflection of the population.\n",
    "      2-Reducing Bias:One of the main challenges in statistical inference is bias. Bias occurs when certain groups or characteristics in the         population are overrepresented or underrepresented in the sample.Random sampling helps reduce selection bias by making the sampling          process impartial. Each member of the population has an equal chance of being included, helping to avoid systematic biases in how            the sample is chosen.\n",
    "      3-Generalizability:Random sampling allows researchers to make generalizations about the entire population based on the characteristics         observed in the sample. This is known as statistical inference. If the sample is random and sufficiently large, the conclusions              drawn from it can likely be extended to the broader population.For instance, a random sample of voters can be used to make                   inferences about voting behavior in the entire population of eligible voters.\n",
    "      4-Estimating Population Parameters:Researchers often want to estimate population parameters (like the mean, variance, or proportion)           from sample statistics. Random sampling allows for the calculation of sample estimates, which can be used to make reliable                   predictions about the population parameters.For example, if you want to estimate the average height of all adults in a country,              random sampling allows you to compute a sample mean, which can then be used to estimate the population mean.\n",
    "      5-Ensuring Validity of Statistical Tests: Many statistical tests, such as hypothesis tests and confidence intervals, rely on the               assumption of random sampling. These tests assume that the sample is representative and that the data points are independent.\n",
    "        Without random sampling, the results of these tests may not be valid because they would be based on a biased or non-representative           sample.\n",
    "      6-Quantifying Uncertainty:Random sampling helps quantify uncertainty in the inferences made about the population. Because a sample is          only an approximation of the population, there will always be some variability in the results.Statistical techniques, such as                confidence intervals and standard errors, can be used to express this uncertainty. For instance, a confidence interval around a              sample mean tells us how much the sample mean is likely to vary from the true population mean.\n",
    "      7-Support for Causal Inferences: In experimental research, random sampling helps ensure that the treatment or experimental conditions          are applied to a representative group, supporting more accurate conclusions about cause-and-effect relationships.When paired with            random assignment (assigning participants to treatment groups randomly), random sampling strengthens the ability to draw causal              conclusions from experimental studies."
   ]
  },
  {
   "cell_type": "markdown",
   "id": "673987a5-ea28-4a14-99f7-5ed9821d5562",
   "metadata": {},
   "source": [
    "6-Explain the concept of skewness and its types. How does skewness affect the interpretation of data?\n",
    "  -> Skewness refers to the asymmetry or lopsidedness in the distribution of data. In simple terms, it describes the extent to which the          data \"leans\" to one side of the mean. A perfectly symmetrical distribution, like the normal distribution, has zero skewness. Skewness        helps us understand the direction in which the data is stretched or pulled, providing insight into the shape of the distribution.\n",
    "    Types of Skewness\n",
    "    1-Positive Skew (Right Skew):   \n",
    "    When the tail of the distribution extends to the right (towards the higher values), the distribution is said to be positively skewed or      right-skewed.In this case, the mean is typically greater than the median, because the large values in the right tail pull the mean           upward.\n",
    "    Example: Income distribution, where a small number of individuals earn extremely high incomes, causing the distribution to skew to the                right.\n",
    "    2-Negative Skew (Left Skew):  \n",
    "    When the tail of the distribution extends to the left (towards the lower values), the distribution is said to be negatively skewed or        left-skewed.In this case, the mean is usually less than the median, because the smaller values in the left tail pull the mean downward.\n",
    "    Example: Exam scores where most students score highly, but a few score very poorly, pulling the distribution leftward.\n",
    "    3-Zero Skew (Symmetry):\n",
    "    A zero skew distribution indicates that the data is symmetrical, meaning the left and right sides of the distribution are mirror images.\n",
    "    In a perfectly symmetrical distribution, the mean and median are equal.\n",
    "    Example: A normal distribution, where the data is evenly distributed around the mean.\n",
    "    Skewness can significantly impact the interpretation and analysis of data:\n",
    "    1-Central Tendency Measures:\n",
    "      In positively skewed distributions, the mean is typically higher than the median because the few high values in the right tail pull          the mean to the right. The mode is usually less than the median, and the median is less than the mean.\n",
    "      In negatively skewed distributions, the mean is lower than the median because the few low values in the left tail pull the mean to the       left. The mode is typically greater than the median, and the median is greater than the mean.\n",
    "    2-Assumptions of Statistical Tests:\n",
    "      Many statistical tests, such as t-tests, ANOVA, and regression, assume that the data is normally distributed (i.e., symmetrical with         zero skewness). If the data is skewed, these tests might lead to incorrect conclusions.\n",
    "      For skewed data, non-parametric tests (which do not rely on the assumption of normality) or transformations (such as logarithmic or          square root transformations) may be used to correct skewness and meet the assumptions of normality.\n",
    "    3-Data Distribution Shape:\n",
    "      Skewness tells you about the overall shape of the distribution. Positive skew indicates that the data is stretched towards the higher        values, while negative skew suggests that the data is stretched towards the lower values.\n",
    "      Understanding skewness helps in identifying the appropriate statistical model to apply. For instance, a log-normal distribution is           positively skewed, and a beta distribution might be useful in cases of left skew.\n",
    "    4-Outliers:\n",
    "      Skewness can be an indicator of outliers in the data. In a positively skewed distribution, outliers tend to be large values on the           right, and in a negatively skewed distribution, outliers are typically small values on the left.\n",
    "      Identifying and addressing outliers is crucial for accurate data analysis, as they can disproportionately affect measures like the           mean and standard deviation."
   ]
  },
  {
   "cell_type": "markdown",
   "id": "916931f4-e10e-47b7-932e-54c2a5770777",
   "metadata": {},
   "source": [
    "7-What is the interquartile range (IQR), and how is it used to detect outliers?\n",
    "  -> Interquartile Range (IQR):The Interquartile Range (IQR) is a measure of statistical dispersion, representing the middle 50% of a             dataset. It gives an idea of the spread of the central portion of the data by calculating the range between the first quartile (Q1) and      the third quartile (Q3).The IQR is calculated as:\n",
    "                              IQR=Q3−Q1\n",
    "        Where:\n",
    "            Q1 (the first quartile) is the median of the lower half of the data (25th percentile).\n",
    "            Q3 (the third quartile) is the median of the upper half of the data (75th percentile).\n",
    "     Using IQR to Detect Outliers\n",
    "     Outliers are values that are significantly higher or lower than the rest of the data. The IQR can help detect these outliers by              determining boundaries beyond which values are considered unusual.To detect outliers, we use the following method:\n",
    "     Calculate the lower and upper boundaries:\n",
    "       Lower Bound: 𝑄1−1.5×IQR\n",
    "       Upper Bound: Q3+1.5×IQR\n",
    "     Identify outliers:Any data point that is below the lower bound or above the upper bound is considered an outlier."
   ]
  },
  {
   "cell_type": "markdown",
   "id": "6ccebc17-10e6-4978-b05a-71192c03f875",
   "metadata": {},
   "source": [
    "8-Discuss the conditions under which the binomial distribution is used.\n",
    "  -> The binomial distribution is applicable under the following conditions:\n",
    "     1. Fixed Number of Trials (n)\n",
    "        There must be a fixed number of trials, denoted by 𝑛. Each trial is performed the same way, and the number of trials is                      predetermined.\n",
    "        Example: Tossing a coin 10 times, where the number of trials (coin tosses) is fixed at 10.\n",
    "    2. Two Possible Outcomes (Success or Failure)\n",
    "       Each trial must result in one of two possible outcomes: a success or a failure. These outcomes are often referred to as \"binary\"             outcomes.\n",
    "       Example: In a coin toss, the two outcomes are heads (success) or tails (failure).\n",
    "    3. Constant Probability of Success (p)\n",
    "       The probability of success (denoted by 𝑝) must be constant for each trial. This means the chance of success does not change across           trials.\n",
    "       Example: When flipping a fair coin, the probability of getting heads (success) is 0.5 for each toss.\n",
    "    4. Independence of Trials\n",
    "       The trials must be independent of each other. The outcome of one trial should not affect the outcome of another trial.\n",
    "       Example: In a series of coin tosses, the result of one toss (e.g., heads) does not influence the result of the next toss.\n",
    "    5. Fixed Number of Successes (k)\n",
    "       The binomial distribution models the probability of achieving a certain number 𝑘 of successes in the 𝑛 trials.\n",
    "       Example: If you're tossing a coin 10 times, you might want to know the probability of getting exactly 6 heads (successes) out of 10          tosses."
   ]
  },
  {
   "cell_type": "markdown",
   "id": "50bddfd3-81a3-4e6e-9359-989cd9362306",
   "metadata": {},
   "source": [
    "9- Explain the properties of the normal distribution and the empirical rule (68-95-99.7 rule).\n",
    "  -> The normal distribution is one of the most important and widely used probability distributions in statistics. It describes a                 symmetrical, bell-shaped distribution of data, where most of the observations cluster around the central mean, and fewer observations        occur as you move farther away from the mean. \n",
    "     Empirical Rule (68-95-99.7 Rule)\n",
    "     The empirical rule is a useful guideline for interpreting the spread of data in a normal distribution. It tells us how much of the data      falls within certain numbers of standard deviations from the mean:\n",
    "     68% of the data is within 1 standard deviation of the mean.\n",
    "     95% of the data is within 2 standard deviations of the mean.\n",
    "     99.7% of the data is within 3 standard deviations of the mean.\n",
    "     This rule is particularly useful when you have data that approximates a normal distribution and you want to quickly understand the           spread of the data."
   ]
  },
  {
   "cell_type": "markdown",
   "id": "c2dc768e-8c87-4840-9166-aee023942830",
   "metadata": {},
   "source": [
    "10- Provide a real-life example of a Poisson process and calculate the probability for a specific event.\n",
    "   -> A Poisson process models the occurrence of events happening randomly over a fixed interval of time or space, with the following              assumptions:Events happen independently of each other.The average rate at which events happen is constant.Two events cannot happen at        exactly the same time.\n",
    "      Example: Arrival of Customers at a Bank\n",
    "      Let's consider a real-life example where we model the number of customers arriving at a bank within a 10-minute interval. Suppose that       on average, 3 customers arrive at the bank every 10 minutes.This situation can be modeled by a Poisson process, where:\n",
    "      The average number of customers arriving in 10 minutes is 𝜆=3.\n",
    "      We want to calculate the probability of a specific number of customers arriving in the next 10 minutes.\n",
    "      Calculate the Probability of Exactly 5 Customers Arriving in 10 Minutes.In this case:\n",
    "      λ=3 (since 3 customers arrive on average every 10 minutes),We want to calculate the probability of exactly 5 customers arriving in 10        minutes, so k=5.\n",
    "      Using the Poisson formula:\n",
    "                                  P(X=5)=(3^5e^(-3))/5!\n",
    "                                  3^5=243\n",
    "                                  e^(−3)≈0.0498\n",
    "                                  5!=5×4×3×2×1=120\n",
    "                                  P(X=5)=(243×0.0498)/120≈12.108/120≈0.1009\n"
   ]
  },
  {
   "cell_type": "markdown",
   "id": "f2b37aff-84ee-4b13-bfb8-7ed0c74ccd0c",
   "metadata": {},
   "source": [
    "11-Explain what a random variable is and differentiate between discrete and continuous random variables.\n",
    "   -> A random variable is a variable whose value is determined by the outcome of a random event or experiment. It assigns numerical values        to the outcomes of a random process. Random variables are used in probability theory and statistics to quantify the outcomes of random       experiments and to analyze the likelihood of different outcomes.There are two main types of random variables:\n",
    "      1- Discrete random variables\n",
    "      2- Continuous random variables\n",
    "      Discrete Random Variables:A discrete random variable is one that can take on only a finite or countably infinite set of distinct             values. These values are typically integers or whole numbers. Discrete random variables are used when the outcomes of an experiment          can be listed or counted.  \n",
    "        Characteristics of Discrete Random Variables:\n",
    "        1-The set of possible outcomes is countable (either finite or infinite but still countable).\n",
    "        2-The outcomes are typically whole numbers or specific categories.\n",
    "        3-The probability of each possible value can be calculated individually.\n",
    "      Continuous Random Variables:A continuous random variable is one that can take on an infinite number of values within a given range.          These values are typically measurements and can include any real number within a certain interval.\n",
    "        Characteristics of Continuous Random Variables:\n",
    "        1-The set of possible outcomes is uncountably infinite and forms a continuum.\n",
    "        2-The outcomes are typically real numbers (decimals or fractions).\n",
    "        3-Instead of assigning probabilities to individual values, a probability density function (PDF) is used for continuous random                  variables, where probabilities are determined over intervals, not at specific points."
   ]
  },
  {
   "attachments": {},
   "cell_type": "markdown",
   "id": "51e1f5d5-c379-4212-b2c3-c3bdc56ef402",
   "metadata": {},
   "source": [
    "12- Provide an example dataset, calculate both covariance and correlation, and interpret the results.\n",
    "    -> Example Dataset:Consider the following dataset, which shows the number of hours studied and the corresponding test scores for a group                        of students:\n",
    "       (Dataset image link given in pdf assignment in drive link)\n",
    "       Here:𝑋 = Hours studied\n",
    "            𝑌= Test scores\n",
    "       We will calculate the covariance and correlation between the two variables 𝑋 and 𝑌.\n",
    "        Calculate the Covariance:  Cov(X,Y)=∑(Xi−X)(Yi−Y)/n\n",
    "        Where:𝑋𝑖 and 𝑌𝑖 are the values of \n",
    "              𝑋 and 𝑌 for each observation.\n",
    "              𝑋mean and Ymean, respectively\n",
    "              n is the number of data points.\n",
    "                            X mean = (2+3+4+5+6)/5=4\n",
    "                            Y mean = (50+60+65+70+80)/5=65\n",
    "                            Sum the products of the deviations=30+5+0+5+30=70\n",
    "                            Calculate the covariance:Cov(X,Y)= 70/5=14\n",
    "             So, the covariance between hours studied and test score is 14.\n",
    "         Calculate the Correlation: r= Cov(X,Y)/σXσY\n",
    "               Where:Cov(𝑋,𝑌)is the covariance between Xand Y\n",
    "                     𝜎𝑋 and 𝜎𝑌 are the standard deviations of 𝑋 and 𝑌, respectively.\n",
    "                     Calculate the variance of 𝑋:Var(X)= 10/5=2≈1.414\n",
    "                     Calculate the variance of 𝑌:Var(Y)= 500/5=100\n",
    "                      Calculate the correlation:14/1.414*10≈0.99\n",
    "             So, the correlation between hours studied and test score is 0.99.\n"
   ]
  },
  {
   "cell_type": "code",
   "execution_count": null,
   "id": "b92e0ec1-083e-4f1c-8bf0-6b43b2c27844",
   "metadata": {},
   "outputs": [],
   "source": []
  }
 ],
 "metadata": {
  "kernelspec": {
   "display_name": "Python 3 (ipykernel)",
   "language": "python",
   "name": "python3"
  },
  "language_info": {
   "codemirror_mode": {
    "name": "ipython",
    "version": 3
   },
   "file_extension": ".py",
   "mimetype": "text/x-python",
   "name": "python",
   "nbconvert_exporter": "python",
   "pygments_lexer": "ipython3",
   "version": "3.12.7"
  }
 },
 "nbformat": 4,
 "nbformat_minor": 5
}
